{
 "cells": [
  {
   "cell_type": "markdown",
   "metadata": {},
   "source": [
    "# What is asyncio?"
   ]
  },
  {
   "cell_type": "markdown",
   "metadata": {},
   "source": [
    "- I/O is <strong style=\"color:red\">high latency</strong>\n",
    "- Sequential program waste resources <strong style=\"color:red\">waiting</strong> on I/O\n",
    "- Multithreading/Multiprocessing carry:\n",
    "    - large <strong style=\"color:red\">resources</strong> overheads\n",
    "    - large <strong style=\"color:red\">cognitive</strong> overheads\n",
    "- Python interpretor is <strong style=\"color:red\">shared mutable state</strong> protected by GIL"
   ]
  },
  {
   "cell_type": "markdown",
   "metadata": {},
   "source": [
    "<img src=\"./concurrency_vs_parallelism.png\"> "
   ]
  },
  {
   "cell_type": "markdown",
   "metadata": {},
   "source": [
    "<img src=\"./async_vs_sync.png\">"
   ]
  },
  {
   "cell_type": "markdown",
   "metadata": {},
   "source": [
    "<img src=\"async_vs_non_blocking.png\">"
   ]
  },
  {
   "cell_type": "markdown",
   "metadata": {},
   "source": [
    "<img src=\"preemptive_vs_cooperative.png\">"
   ]
  },
  {
   "cell_type": "markdown",
   "metadata": {},
   "source": [
    "# Asyncio allows us to write:\n",
    "- asyncronous, concurrent, cooperative tasks in sequential style"
   ]
  },
  {
   "cell_type": "markdown",
   "metadata": {},
   "source": [
    "# Cooperating coroutines :\n",
    "- (concurrent programming without asyncio)"
   ]
  },
  {
   "cell_type": "markdown",
   "metadata": {},
   "source": [
    "#### The Lucas Sequence (fibonacci):"
   ]
  },
  {
   "cell_type": "code",
   "execution_count": 1,
   "metadata": {},
   "outputs": [],
   "source": [
    "def lucas():\n",
    "    yield 2\n",
    "    a = 2\n",
    "    b = 1\n",
    "    while True:\n",
    "        yield b\n",
    "        a, b = b, a + b"
   ]
  },
  {
   "cell_type": "code",
   "execution_count": 2,
   "metadata": {},
   "outputs": [],
   "source": [
    "from itertools import islice"
   ]
  },
  {
   "cell_type": "code",
   "execution_count": 3,
   "metadata": {},
   "outputs": [
    {
     "data": {
      "text/plain": [
       "[2, 1, 3, 4, 7, 11, 18, 29, 47, 76]"
      ]
     },
     "execution_count": 3,
     "metadata": {},
     "output_type": "execute_result"
    }
   ],
   "source": [
    "list(islice(lucas(), 10))"
   ]
  },
  {
   "cell_type": "markdown",
   "metadata": {},
   "source": [
    "#### Linear Search:\n",
    "- Return first item satsifying predicate"
   ]
  },
  {
   "cell_type": "code",
   "execution_count": 4,
   "metadata": {},
   "outputs": [],
   "source": [
    "def search(iterable, predicate):\n",
    "    \"\"\"\n",
    "    - search is a regular function:\n",
    "    - calling search either:\n",
    "         a) directly returns the result or,\n",
    "         b) raises an exception\n",
    "    \"\"\"\n",
    "    for item in iterable:\n",
    "        if predicate(item):\n",
    "            return item\n",
    "    raise ValueError(\"Not Found\")"
   ]
  },
  {
   "cell_type": "code",
   "execution_count": 5,
   "metadata": {},
   "outputs": [
    {
     "data": {
      "text/plain": [
       "103682"
      ]
     },
     "execution_count": 5,
     "metadata": {},
     "output_type": "execute_result"
    }
   ],
   "source": [
    "search(lucas(), lambda x: len(str(x)) >= 6)"
   ]
  },
  {
   "cell_type": "markdown",
   "metadata": {},
   "source": [
    "#### Cooperative linear search\n",
    "- periodically yields control to the caller.\n",
    "- on completion returns result in exception payload"
   ]
  },
  {
   "cell_type": "code",
   "execution_count": 6,
   "metadata": {},
   "outputs": [],
   "source": [
    "def async_search(iterable, predicate):\n",
    "    \"\"\"\n",
    "    - async_search is a generator function:\n",
    "        a) calling async_search always returns a generator object:\n",
    "        b) search progresses when iterated with next()\n",
    "        c) Final result \"returned\" in StopIteration payload\n",
    "    \"\"\"\n",
    "    for item in iterable:\n",
    "        if predicate(item):\n",
    "            return item\n",
    "        yield\n",
    "    raise ValueError(\"Not Found\")"
   ]
  },
  {
   "cell_type": "code",
   "execution_count": 7,
   "metadata": {},
   "outputs": [
    {
     "data": {
      "text/plain": [
       "<generator object async_search at 0x000001BFB8710750>"
      ]
     },
     "execution_count": 7,
     "metadata": {},
     "output_type": "execute_result"
    }
   ],
   "source": [
    "g = async_search(lucas(), lambda x: x >= 10)\n",
    "g"
   ]
  },
  {
   "cell_type": "code",
   "execution_count": 8,
   "metadata": {},
   "outputs": [
    {
     "name": "stdout",
     "output_type": "stream",
     "text": [
      "hello world\n"
     ]
    },
    {
     "ename": "StopIteration",
     "evalue": "11",
     "output_type": "error",
     "traceback": [
      "\u001b[1;31m---------------------------------------------------------------------------\u001b[0m",
      "\u001b[1;31mStopIteration\u001b[0m                             Traceback (most recent call last)",
      "\u001b[1;32m<ipython-input-8-20be10f2a8db>\u001b[0m in \u001b[0;36m<module>\u001b[1;34m\u001b[0m\n\u001b[0;32m      5\u001b[0m \u001b[0mnext\u001b[0m\u001b[1;33m(\u001b[0m\u001b[0mg\u001b[0m\u001b[1;33m)\u001b[0m\u001b[1;33m\u001b[0m\u001b[1;33m\u001b[0m\u001b[0m\n\u001b[0;32m      6\u001b[0m \u001b[0mnext\u001b[0m\u001b[1;33m(\u001b[0m\u001b[0mg\u001b[0m\u001b[1;33m)\u001b[0m\u001b[1;33m\u001b[0m\u001b[1;33m\u001b[0m\u001b[0m\n\u001b[1;32m----> 7\u001b[1;33m \u001b[0mnext\u001b[0m\u001b[1;33m(\u001b[0m\u001b[0mg\u001b[0m\u001b[1;33m)\u001b[0m\u001b[1;33m\u001b[0m\u001b[1;33m\u001b[0m\u001b[0m\n\u001b[0m",
      "\u001b[1;31mStopIteration\u001b[0m: 11"
     ]
    }
   ],
   "source": [
    "next(g)\n",
    "next(g)\n",
    "print(\"hello world\")\n",
    "next(g)\n",
    "next(g)\n",
    "next(g)\n",
    "next(g)"
   ]
  },
  {
   "cell_type": "markdown",
   "metadata": {},
   "source": [
    "#### Task\n",
    "- aggregates a coroutine and an integer id"
   ]
  },
  {
   "cell_type": "code",
   "execution_count": 16,
   "metadata": {},
   "outputs": [],
   "source": [
    "class Task:\n",
    "    \n",
    "    next_id = 0\n",
    "    \n",
    "    def __init__(self, routine):\n",
    "        self.id = Task.next_id\n",
    "        Task.next_id += 1\n",
    "        self.routine = routine"
   ]
  },
  {
   "cell_type": "code",
   "execution_count": 17,
   "metadata": {},
   "outputs": [],
   "source": [
    "from collections import deque"
   ]
  },
  {
   "cell_type": "code",
   "execution_count": 18,
   "metadata": {},
   "outputs": [],
   "source": [
    "class Schedular:\n",
    "    \n",
    "    def __init__(self):\n",
    "        self.runnable_tasks = deque()\n",
    "        self.completed_tasks_results = {}\n",
    "        self.failed_tasks_errors = {}\n",
    "        \n",
    "    def add(self, routine):\n",
    "        task = Task(routine)\n",
    "        self.runnable_tasks.append(task)\n",
    "        return task.id\n",
    "    \n",
    "    def run_to_completion(self):\n",
    "        while len(self.runnable_tasks) != 0:\n",
    "            task = self.runnable_tasks.popleft()\n",
    "            print(\"Running task {}...\".format(task.id), end=\"\")\n",
    "            try:\n",
    "                yielded = next(task.routine)\n",
    "            except StopIteration as stopped:\n",
    "                print(\"Completed with result: {!r}\".format(stopped.value))\n",
    "                self.completed_tasks_results[task.id] = stopped.value\n",
    "            except Exception as e:\n",
    "                print(\"Failed with exception: {}\".format(e))\n",
    "                self.failed_tasks_errors[task.id] = e\n",
    "            else:\n",
    "                assert yielded is None\n",
    "                print(\"Now yielded\")\n",
    "                self.runnable_tasks.append(task)"
   ]
  },
  {
   "cell_type": "code",
   "execution_count": 19,
   "metadata": {},
   "outputs": [],
   "source": [
    "schedular = Schedular()"
   ]
  },
  {
   "cell_type": "code",
   "execution_count": 20,
   "metadata": {},
   "outputs": [
    {
     "data": {
      "text/plain": [
       "0"
      ]
     },
     "execution_count": 20,
     "metadata": {},
     "output_type": "execute_result"
    }
   ],
   "source": [
    "schedular.add(async_search(lucas(), lambda x: len(str(x)) >= 6))"
   ]
  },
  {
   "cell_type": "code",
   "execution_count": 21,
   "metadata": {},
   "outputs": [
    {
     "name": "stdout",
     "output_type": "stream",
     "text": [
      "Running task 0...Now yielded\n",
      "Running task 0...Now yielded\n",
      "Running task 0...Now yielded\n",
      "Running task 0...Now yielded\n",
      "Running task 0...Now yielded\n",
      "Running task 0...Now yielded\n",
      "Running task 0...Now yielded\n",
      "Running task 0...Now yielded\n",
      "Running task 0...Now yielded\n",
      "Running task 0...Now yielded\n",
      "Running task 0...Now yielded\n",
      "Running task 0...Now yielded\n",
      "Running task 0...Now yielded\n",
      "Running task 0...Now yielded\n",
      "Running task 0...Now yielded\n",
      "Running task 0...Now yielded\n",
      "Running task 0...Now yielded\n",
      "Running task 0...Now yielded\n",
      "Running task 0...Now yielded\n",
      "Running task 0...Now yielded\n",
      "Running task 0...Now yielded\n",
      "Running task 0...Now yielded\n",
      "Running task 0...Now yielded\n",
      "Running task 0...Now yielded\n",
      "Running task 0...Completed with result: 103682\n"
     ]
    }
   ],
   "source": [
    "schedular.run_to_completion()"
   ]
  },
  {
   "cell_type": "code",
   "execution_count": 22,
   "metadata": {},
   "outputs": [
    {
     "data": {
      "text/plain": [
       "103682"
      ]
     },
     "execution_count": 22,
     "metadata": {},
     "output_type": "execute_result"
    }
   ],
   "source": [
    "schedular.completed_tasks_results.pop(0)"
   ]
  },
  {
   "cell_type": "code",
   "execution_count": 23,
   "metadata": {},
   "outputs": [
    {
     "data": {
      "text/plain": [
       "2"
      ]
     },
     "execution_count": 23,
     "metadata": {},
     "output_type": "execute_result"
    }
   ],
   "source": [
    "schedular.add(async_search(lucas(), lambda x: len(str(x)) >= 7))\n",
    "schedular.add(async_search(lucas(), lambda x: len(str(x)) >= 9))"
   ]
  },
  {
   "cell_type": "code",
   "execution_count": 24,
   "metadata": {},
   "outputs": [
    {
     "name": "stdout",
     "output_type": "stream",
     "text": [
      "Running task 1...Now yielded\n",
      "Running task 2...Now yielded\n",
      "Running task 1...Now yielded\n",
      "Running task 2...Now yielded\n",
      "Running task 1...Now yielded\n",
      "Running task 2...Now yielded\n",
      "Running task 1...Now yielded\n",
      "Running task 2...Now yielded\n",
      "Running task 1...Now yielded\n",
      "Running task 2...Now yielded\n",
      "Running task 1...Now yielded\n",
      "Running task 2...Now yielded\n",
      "Running task 1...Now yielded\n",
      "Running task 2...Now yielded\n",
      "Running task 1...Now yielded\n",
      "Running task 2...Now yielded\n",
      "Running task 1...Now yielded\n",
      "Running task 2...Now yielded\n",
      "Running task 1...Now yielded\n",
      "Running task 2...Now yielded\n",
      "Running task 1...Now yielded\n",
      "Running task 2...Now yielded\n",
      "Running task 1...Now yielded\n",
      "Running task 2...Now yielded\n",
      "Running task 1...Now yielded\n",
      "Running task 2...Now yielded\n",
      "Running task 1...Now yielded\n",
      "Running task 2...Now yielded\n",
      "Running task 1...Now yielded\n",
      "Running task 2...Now yielded\n",
      "Running task 1...Now yielded\n",
      "Running task 2...Now yielded\n",
      "Running task 1...Now yielded\n",
      "Running task 2...Now yielded\n",
      "Running task 1...Now yielded\n",
      "Running task 2...Now yielded\n",
      "Running task 1...Now yielded\n",
      "Running task 2...Now yielded\n",
      "Running task 1...Now yielded\n",
      "Running task 2...Now yielded\n",
      "Running task 1...Now yielded\n",
      "Running task 2...Now yielded\n",
      "Running task 1...Now yielded\n",
      "Running task 2...Now yielded\n",
      "Running task 1...Now yielded\n",
      "Running task 2...Now yielded\n",
      "Running task 1...Now yielded\n",
      "Running task 2...Now yielded\n",
      "Running task 1...Now yielded\n",
      "Running task 2...Now yielded\n",
      "Running task 1...Now yielded\n",
      "Running task 2...Now yielded\n",
      "Running task 1...Now yielded\n",
      "Running task 2...Now yielded\n",
      "Running task 1...Now yielded\n",
      "Running task 2...Now yielded\n",
      "Running task 1...Now yielded\n",
      "Running task 2...Now yielded\n",
      "Running task 1...Completed with result: 1149851\n",
      "Running task 2...Now yielded\n",
      "Running task 2...Now yielded\n",
      "Running task 2...Now yielded\n",
      "Running task 2...Now yielded\n",
      "Running task 2...Now yielded\n",
      "Running task 2...Now yielded\n",
      "Running task 2...Now yielded\n",
      "Running task 2...Now yielded\n",
      "Running task 2...Now yielded\n",
      "Running task 2...Now yielded\n",
      "Running task 2...Completed with result: 141422324\n"
     ]
    }
   ],
   "source": [
    "schedular.run_to_completion()"
   ]
  },
  {
   "cell_type": "code",
   "execution_count": 25,
   "metadata": {},
   "outputs": [
    {
     "data": {
      "text/plain": [
       "1149851"
      ]
     },
     "execution_count": 25,
     "metadata": {},
     "output_type": "execute_result"
    }
   ],
   "source": [
    "schedular.completed_tasks_results.pop(1)"
   ]
  },
  {
   "cell_type": "code",
   "execution_count": 26,
   "metadata": {},
   "outputs": [
    {
     "data": {
      "text/plain": [
       "141422324"
      ]
     },
     "execution_count": 26,
     "metadata": {},
     "output_type": "execute_result"
    }
   ],
   "source": [
    "schedular.completed_tasks_results.pop(2)"
   ]
  },
  {
   "cell_type": "markdown",
   "metadata": {},
   "source": [
    "#### A primality testing function\n",
    "- simple but inefficient"
   ]
  },
  {
   "cell_type": "code",
   "execution_count": 27,
   "metadata": {},
   "outputs": [],
   "source": [
    "from math import sqrt\n",
    "\n",
    "def is_prime(x):\n",
    "    if x < 2:\n",
    "        return False\n",
    "    for i in range(2, int(sqrt(x)) + 1):\n",
    "        if x % i == 0:\n",
    "            return False\n",
    "    return True"
   ]
  },
  {
   "cell_type": "code",
   "execution_count": 28,
   "metadata": {},
   "outputs": [
    {
     "data": {
      "text/plain": [
       "True"
      ]
     },
     "execution_count": 28,
     "metadata": {},
     "output_type": "execute_result"
    }
   ],
   "source": [
    "is_prime(2)"
   ]
  },
  {
   "cell_type": "code",
   "execution_count": 29,
   "metadata": {},
   "outputs": [
    {
     "data": {
      "text/plain": [
       "False"
      ]
     },
     "execution_count": 29,
     "metadata": {},
     "output_type": "execute_result"
    }
   ],
   "source": [
    "is_prime(12)"
   ]
  },
  {
   "cell_type": "code",
   "execution_count": 30,
   "metadata": {},
   "outputs": [
    {
     "data": {
      "text/plain": [
       "True"
      ]
     },
     "execution_count": 30,
     "metadata": {},
     "output_type": "execute_result"
    }
   ],
   "source": [
    "is_prime(2**31 -1)"
   ]
  },
  {
   "cell_type": "code",
   "execution_count": 31,
   "metadata": {},
   "outputs": [],
   "source": [
    "# is_prime(2**61 -1) # takes week don't run it"
   ]
  },
  {
   "cell_type": "markdown",
   "metadata": {},
   "source": [
    "### Filter and print coroutine\n",
    "- similar to async_search, but print all matches"
   ]
  },
  {
   "cell_type": "code",
   "execution_count": 32,
   "metadata": {},
   "outputs": [],
   "source": [
    "def async_print_matches(iterable, predicate):\n",
    "    for item in iterable:\n",
    "        if predicate(item):\n",
    "            print(\"Found: \", item, end=\", \")\n",
    "        yield"
   ]
  },
  {
   "cell_type": "code",
   "execution_count": 33,
   "metadata": {},
   "outputs": [],
   "source": [
    "schedular = Schedular()"
   ]
  },
  {
   "cell_type": "code",
   "execution_count": 34,
   "metadata": {},
   "outputs": [
    {
     "data": {
      "text/plain": [
       "3"
      ]
     },
     "execution_count": 34,
     "metadata": {},
     "output_type": "execute_result"
    }
   ],
   "source": [
    "schedular.add(async_print_matches(lucas(), is_prime))"
   ]
  },
  {
   "cell_type": "raw",
   "metadata": {},
   "source": [
    "# schedular.run_to_completion() \n",
    "Running task 0...Found:  2, Now yielded\n",
    "Running task 0...Now yielded\n",
    "Running task 0...Found:  3, Now yielded\n",
    "Running task 0...Now yielded\n",
    "Running task 0...Found:  7, Now yielded\n",
    "Running task 0...Found:  11, Now yielded\n",
    "Running task 0...Now yielded\n",
    "Running task 0...Found:  29, Now yielded\n",
    "Running task 0...Found:  47, Now yielded\n",
    "Running task 0...Now yielded\n",
    "Running task 0...Now yielded\n",
    "Running task 0...Found:  199, Now yielded\n",
    "Running task 0...Now yielded\n",
    "Running task 0...Found:  521, Now yielded\n",
    "Running task 0...Now yielded\n",
    "Running task 0...Now yielded\n",
    "Running task 0...Found:  2207, Now yielded\n",
    "Running task 0...Found:  3571, Now yielded\n",
    "Running task 0...Now yielded\n",
    "Running task 0...Found:  9349, Now yielded\n",
    "Running task 0...Now yielded\n",
    "Running task 0...Now yielded\n",
    "Running task 0...Now yielded\n",
    "Running task 0...Now yielded\n",
    "Running task 0...Now yielded\n",
    "Running task 0...Now yielded\n",
    "Running task 0...Now yielded\n",
    "Running task 0...Now yielded\n",
    "Running task 0...Now yielded\n",
    "Running task 0...Now yielded\n",
    "Running task 0...Now yielded\n",
    "Running task 0...Found:  3010349, Now yielded\n",
    "Running task 0...Now yielded\n",
    "Running task 0...Now yielded\n",
    "Running task 0...Now yielded\n",
    "Running task 0...Now yielded\n",
    "Running task 0...Now yielded\n",
    "Running task 0...Found:  54018521, Now yielded\n",
    "Running task 0...Now yielded\n",
    "Running task 0...Now yielded\n",
    "Running task 0...Now yielded\n",
    "Running task 0...Found:  370248451, Now yielded\n",
    "Running task 0...Now yielded\n",
    "Running task 0...Now yielded\n",
    "Running task 0...Now yielded\n",
    "Running task 0...Now yielded\n",
    "Running task 0...Now yielded\n",
    "Running task 0...Found:  6643838879, Now yielded\n",
    "Running task 0...Now yielded\n",
    "Running task 0...Now yielded\n",
    "Running task 0...Now yielded\n",
    "Running task 0...Now yielded\n",
    "Running task 0...Now yielded\n",
    "Running task 0...Found:  119218851371, Now yielded\n",
    "Running task 0...Now yielded\n",
    "Running task 0...Now yielded\n",
    "Running task 0...Now yielded\n",
    "Running task 0...Now yielded\n",
    "Running task 0...Now yielded\n",
    "Running task 0...Now yielded\n",
    "Running task 0...Now yielded\n",
    "Running task 0...Found:  5600748293801, Now yielded\n",
    "Running task 0...Now yielded\n",
    "Running task 0...Now yielded\n",
    "Running task 0...Now yielded\n",
    "Running task 0...Now yielded\n",
    "Running task 0...Now yielded\n",
    "Running task 0...Now yielded\n",
    "Running task 0...Now yielded\n",
    "Running task 0...Now yielded\n",
    "Running task 0...Now yielded\n",
    "Running task 0...Found:  688846502588399, Now yielded\n",
    "Running task 0...Now yielded\n",
    "Running task 0...Now yielded\n",
    "Running task 0...Now yielded\n",
    "Running task 0...Now yielded\n",
    "Running task 0...Now yielded\n",
    "Running task 0...Now yielded\n",
    "Running task 0...Now yielded\n",
    "Running task 0...Found:  32361122672259149, Now yielded\n",
    "Running task 0...Now yielded\n",
    "Running task 0...Now yielded\n",
    "Running task 0...Now yielded\n",
    "Running task 0...Now yielded\n",
    "Running task 0...Now yielded\n",
    "Running task 0...Now yielded\n",
    "Running task 0...Now yielded\n",
    "Running task 0...Now yielded\n",
    "Running task 0...Now yielded\n",
    "Running task 0...Now yielded\n",
    "Running task 0...Now yielded\n",
    "Running task 0...Now yielded\n",
    "Running task 0...Now yielded\n",
    "Running task 0...Now yielded\n",
    "Running task 0...Now yielded\n",
    "Running task 0...Now yielded\n",
    "Running task 0...Now yielded\n",
    "Running task 0...Now yielded\n",
    "Running task 0...Now yielded\n",
    "Running task 0...Now yielded\n",
    "Running task 0...Now yielded\n",
    "Running task 0...Now yielded\n",
    "Running task 0...Now yielded\n",
    "Running task 0...Now yielded\n",
    "Running task 0...Now yielded\n",
    "Running task 0...Now yielded\n",
    "Running task 0...Now yielded\n",
    "Running task 0...Now yielded\n",
    "Running task 0...Now yielded\n",
    "Running task 0...Now yielded\n",
    "Running task 0...Now yielded\n",
    "Running task 0...Now yielded\n",
    "Running task 0...Now yielded\n",
    "Running task 0..."
   ]
  },
  {
   "cell_type": "markdown",
   "metadata": {},
   "source": [
    "### Print a message at intervals\n",
    "- Yields control until a time interval expires"
   ]
  },
  {
   "cell_type": "code",
   "execution_count": 35,
   "metadata": {},
   "outputs": [],
   "source": [
    "import time"
   ]
  },
  {
   "cell_type": "code",
   "execution_count": 36,
   "metadata": {},
   "outputs": [],
   "source": [
    "def async_repetitive_message(message, interval_seconds):\n",
    "    while True:\n",
    "        print(message)\n",
    "        start = time.time()\n",
    "        expiry = start + interval_seconds\n",
    "        while True:\n",
    "            yield # ensure that coroutines always yield at lease once if they can't complete immediately\n",
    "            now = time.time()\n",
    "            if now >= expiry:\n",
    "                break"
   ]
  },
  {
   "cell_type": "code",
   "execution_count": 37,
   "metadata": {},
   "outputs": [],
   "source": [
    "schedular = Schedular()"
   ]
  },
  {
   "cell_type": "code",
   "execution_count": 38,
   "metadata": {},
   "outputs": [
    {
     "data": {
      "text/plain": [
       "4"
      ]
     },
     "execution_count": 38,
     "metadata": {},
     "output_type": "execute_result"
    }
   ],
   "source": [
    "schedular.add(async_repetitive_message(\"Unattended baggage will be destroyed\", 2.5))"
   ]
  },
  {
   "cell_type": "code",
   "execution_count": 39,
   "metadata": {},
   "outputs": [
    {
     "data": {
      "text/plain": [
       "5"
      ]
     },
     "execution_count": 39,
     "metadata": {},
     "output_type": "execute_result"
    }
   ],
   "source": [
    "schedular.add(async_print_matches(lucas(), is_prime))"
   ]
  },
  {
   "cell_type": "raw",
   "metadata": {},
   "source": [
    "# schedular.run_to_completion()\n",
    "Running task 0...Unattended baggage will be destroyed\n",
    "Now yielded\n",
    "Running task 0...Found:  2, Now yielded\n",
    "Running task 0...Now yielded\n",
    "Running task 0...Now yielded\n",
    "Running task 0...Now yielded\n",
    "Running task 0...Found:  3, Now yielded\n",
    "Running task 0...Now yielded\n",
    "Running task 0...Now yielded\n",
    "Running task 0...Now yielded\n",
    "Running task 0...Found:  7, Now yielded\n",
    "Running task 0...Now yielded\n",
    "Running task 0...Found:  11, Now yielded\n",
    "Running task 0...Now yielded\n",
    "Running task 0...Now yielded\n",
    "Running task 0...Now yielded\n",
    "Running task 0...Found:  29, Now yielded\n",
    "Running task 0...Now yielded\n",
    "Running task 0...Found:  47, Now yielded\n",
    "Running task 0...Now yielded\n",
    "Running task 0...Now yielded\n",
    "Running task 0...Now yielded\n",
    "Running task 0...Now yielded\n",
    "Running task 0...Now yielded\n",
    "Running task 0...Found:  199, Now yielded\n",
    "Running task 0...Now yielded\n",
    "Running task 0...Now yielded\n",
    "Running task 0...Now yielded\n",
    "Running task 0...Found:  521, Now yielded\n",
    "Running task 0...Now yielded\n",
    "Running task 0...Now yielded\n",
    "Running task 0...Now yielded\n",
    "Running task 0...Now yielded\n",
    "Running task 0...Now yielded\n",
    "Running task 0...Found:  2207, Now yielded\n",
    "Running task 0...Now yielded\n",
    "Running task 0...Found:  3571, Now yielded\n",
    "Running task 0...Now yielded\n",
    "Running task 0...Now yielded\n",
    "Running task 0...Now yielded\n",
    "Running task 0...Found:  9349, Now yielded\n",
    "Running task 0...Now yielded\n",
    "Running task 0...Now yielded\n",
    "Running task 0...Now yielded\n",
    "Running task 0...Now yielded\n",
    "Running task 0...Now yielded\n",
    "Running task 0...Now yielded\n",
    "Running task 0...Now yielded\n",
    "Running task 0...Now yielded\n",
    "Running task 0...Now yielded\n",
    "Running task 0...Now yielded\n",
    "Running task 0...Now yielded\n",
    "Running task 0...Now yielded\n",
    "Running task 0...Now yielded\n",
    "Running task 0...Now yielded\n",
    "Running task 0...Now yielded\n",
    "Running task 0...Now yielded\n",
    "Running task 0...Now yielded\n",
    "Running task 0...Now yielded\n",
    "Running task 0...Now yielded\n",
    "Running task 0...Now yielded\n",
    "Running task 0...Now yielded\n",
    "Running task 0...Now yielded\n",
    "Running task 0...Now yielded\n",
    "Running task 0...Found:  3010349, Now yielded\n",
    "Running task 0...Now yielded\n",
    "Running task 0...Now yielded\n",
    "Running task 0...Now yielded\n",
    "Running task 0...Now yielded\n",
    "Running task 0...Now yielded\n",
    "Running task 0...Now yielded\n",
    "Running task 0...Now yielded\n",
    "Running task 0...Now yielded\n",
    "Running task 0...Now yielded\n",
    "Running task 0...Now yielded\n",
    "Running task 0...Now yielded\n",
    "Running task 0...Found:  54018521, Now yielded\n",
    "Running task 0...Now yielded\n",
    "Running task 0...Now yielded\n",
    "Running task 0...Now yielded\n",
    "Running task 0...Now yielded\n",
    "Running task 0...Now yielded\n",
    "Running task 0...Now yielded\n",
    "Running task 0...Now yielded\n",
    "Running task 0...Found:  370248451, Now yielded\n",
    "Running task 0...Now yielded\n",
    "Running task 0...Now yielded\n",
    "Running task 0...Now yielded\n",
    "Running task 0...Now yielded\n",
    "Running task 0...Now yielded\n",
    "Running task 0...Now yielded\n",
    "Running task 0...Now yielded\n",
    "Running task 0...Now yielded\n",
    "Running task 0...Now yielded\n",
    "Running task 0...Now yielded\n",
    "Running task 0...Now yielded\n",
    "Running task 0...Found:  6643838879, Now yielded\n",
    "Running task 0...Now yielded\n",
    "Running task 0...Now yielded\n",
    "Running task 0...Now yielded\n",
    "Running task 0...Now yielded\n",
    "Running task 0...Now yielded\n",
    "Running task 0...Now yielded\n",
    "Running task 0...Now yielded\n",
    "Running task 0...Now yielded\n",
    "Running task 0...Now yielded\n",
    "Running task 0...Now yielded\n",
    "Running task 0...Now yielded\n",
    "Running task 0...Found:  119218851371, Now yielded\n",
    "Running task 0...Now yielded\n",
    "Running task 0...Now yielded\n",
    "Running task 0...Now yielded\n",
    "Running task 0...Now yielded\n",
    "Running task 0...Now yielded\n",
    "Running task 0...Now yielded\n",
    "Running task 0...Now yielded\n",
    "Running task 0...Now yielded\n",
    "Running task 0...Now yielded\n",
    "Running task 0...Now yielded\n",
    "Running task 0...Now yielded\n",
    "Running task 0...Now yielded\n",
    "Running task 0...Now yielded\n",
    "Running task 0...Now yielded\n",
    "Running task 0...Now yielded\n",
    "Running task 0...Found:  5600748293801, Now yielded\n",
    "Running task 0...Now yielded\n",
    "Running task 0...Now yielded\n",
    "Running task 0...Now yielded\n",
    "Running task 0...Now yielded\n",
    "Running task 0...Now yielded\n",
    "Running task 0...Now yielded\n",
    "Running task 0...Now yielded\n",
    "Running task 0...Now yielded\n",
    "Running task 0...Now yielded\n",
    "Running task 0...Now yielded\n",
    "Running task 0...Now yielded\n",
    "Running task 0...Now yielded\n",
    "Running task 0...Now yielded\n",
    "Running task 0...Now yielded\n",
    "Running task 0...Now yielded\n",
    "Running task 0...Now yielded\n",
    "Running task 0...Now yielded\n",
    "Running task 0...Now yielded\n",
    "Running task 0...Now yielded\n",
    "Running task 0...Found:  688846502588399, Now yielded\n",
    "Running task 0...Unattended baggage will be destroyed\n",
    "Now yielded\n",
    "Running task 0...Now yielded\n",
    "Running task 0...Now yielded\n",
    "Running task 0...Now yielded\n",
    "Running task 0...Now yielded\n",
    "Running task 0...Now yielded\n",
    "Running task 0...Now yielded\n",
    "Running task 0...Now yielded\n",
    "Running task 0...Now yielded\n",
    "Running task 0...Now yielded\n",
    "Running task 0...Now yielded\n",
    "Running task 0...Now yielded\n",
    "Running task 0...Now yielded\n",
    "Running task 0...Now yielded\n",
    "Running task 0...Now yielded\n",
    "Running task 0..."
   ]
  },
  {
   "cell_type": "markdown",
   "metadata": {},
   "source": [
    "### In above code:\n",
    "- <code>async_print_matches</code> is non-blocking but <code>is_prime</code> blocks on large numbers, stalling the whole system"
   ]
  },
  {
   "cell_type": "markdown",
   "metadata": {},
   "source": [
    "### Everything we call - transitively - from a coroutine should be non-blocking.\n",
    "- coroutines are contagious to <strong>callees</strong>"
   ]
  },
  {
   "cell_type": "code",
   "execution_count": 40,
   "metadata": {},
   "outputs": [],
   "source": [
    "from math import sqrt\n",
    "\n",
    "def async_is_prime(x):\n",
    "    if x < 2:\n",
    "        return False\n",
    "    for i in range(2, int(sqrt(x)) + 1):\n",
    "        if x % i == 0:\n",
    "            return False\n",
    "        yield\n",
    "    return True"
   ]
  },
  {
   "cell_type": "code",
   "execution_count": 41,
   "metadata": {},
   "outputs": [],
   "source": [
    "def async_print_matches(iterable, predicate):\n",
    "    for item in iterable:\n",
    "        matches = yield from async_predicate(item) # allows the predicate to make progress and yield control by invoking with yield from\n",
    "        if matches:\n",
    "            print(\"Found: \", item)\n",
    "        # yield      # => here we dont need yield"
   ]
  },
  {
   "cell_type": "markdown",
   "metadata": {},
   "source": [
    "### Everything that calls - transitively - to a coroutine must iterate the generator.\n",
    "- coroutines are contagious to <strong>callers</strong>"
   ]
  },
  {
   "cell_type": "markdown",
   "metadata": {},
   "source": [
    "### Refactoring - extracting coroutine\n",
    "- requires invoking via yield from"
   ]
  },
  {
   "cell_type": "code",
   "execution_count": 42,
   "metadata": {},
   "outputs": [],
   "source": [
    "import time\n",
    "from math import sqrt\n",
    "\n",
    "\n",
    "def async_sleep(interval_seconds):\n",
    "    \"\"\"\n",
    "    async_sleep always yields atleast once \n",
    "    async_sleep(0) yields exactly once\n",
    "    \"\"\"\n",
    "    start = time.time()\n",
    "    expiry = start + interval_seconds\n",
    "    while True:\n",
    "        yield      \n",
    "        now = time.time()\n",
    "        if now >= expiry:\n",
    "            break\n",
    "\n",
    "            \n",
    "def async_is_prime(x):\n",
    "    if x < 2:\n",
    "        return False\n",
    "    for i in range(2, int(sqrt(x)) + 1):\n",
    "        if x % i == 0:\n",
    "            return False\n",
    "        yield from async_sleep(0)\n",
    "    return True\n",
    "\n",
    "\n",
    "def async_search(iterable, predicate):\n",
    "    \"\"\"\n",
    "    - async_search is a generator function:\n",
    "        a) calling async_search always returns a generator object:\n",
    "        b) search progresses when iterated with next()\n",
    "        c) Final result \"returned\" in StopIteration payload\n",
    "    \"\"\"\n",
    "    for item in iterable:\n",
    "        if predicate(item):\n",
    "            return item\n",
    "        yield from async_sleep(0)\n",
    "    raise ValueError(\"Not Found\")\n",
    "\n",
    "    \n",
    "def async_print_matches(iterable, async_predicate):\n",
    "    for item in iterable:\n",
    "        matches = yield from async_predicate(item) # allows the predicate to make progress and yield control by invoking with yield from\n",
    "        if matches:\n",
    "            print(\"Found : \", item)\n",
    "        # yield      # => here we dont need yield\n",
    "        \n",
    "        \n",
    "def async_repetitive_message(message, interval_seconds):\n",
    "    while True:\n",
    "        print(message)\n",
    "        yield from async_sleep(interval_seconds)"
   ]
  },
  {
   "cell_type": "code",
   "execution_count": 43,
   "metadata": {},
   "outputs": [],
   "source": [
    "schedular = Schedular()"
   ]
  },
  {
   "cell_type": "code",
   "execution_count": 44,
   "metadata": {},
   "outputs": [
    {
     "data": {
      "text/plain": [
       "6"
      ]
     },
     "execution_count": 44,
     "metadata": {},
     "output_type": "execute_result"
    }
   ],
   "source": [
    "schedular.add(async_repetitive_message(\"Unattended baggage will be destroyed\", 2.5))"
   ]
  },
  {
   "cell_type": "code",
   "execution_count": 45,
   "metadata": {},
   "outputs": [
    {
     "data": {
      "text/plain": [
       "7"
      ]
     },
     "execution_count": 45,
     "metadata": {},
     "output_type": "execute_result"
    }
   ],
   "source": [
    "schedular.add(async_print_matches(lucas(), async_is_prime))"
   ]
  },
  {
   "cell_type": "raw",
   "metadata": {},
   "source": [
    "schedular.run_to_completion()\n",
    "\n",
    "Running task 6...Unattended baggage will be destroyed\n",
    "Now yielded\n",
    "Running task 7...Found :  2\n",
    "Found :  3\n",
    "Now yielded\n",
    "Running task 6...Now yielded\n",
    "Running task 7...Found :  7\n",
    "Now yielded\n",
    "Running task 6...Now yielded\n",
    "Running task 7...Now yielded\n",
    "Running task 6...Now yielded\n",
    "Running task 7...Found :  11\n",
    "Now yielded\n",
    "Running task 6...Now yielded\n",
    "Running task 7...Now yielded\n",
    "Running task 6...Now yielded\n",
    "Running task 7...Now yielded\n",
    "Running task 6...Now yielded\n",
    "Running task 7...Now yielded\n",
    "Running task 6...Now yielded\n",
    "Running task 7...Found :  29\n",
    "Now yielded\n",
    "Running task 6...Now yielded\n",
    "Running task 7...Now yielded\n",
    "Running task 6...Now yielded\n",
    "Running task 7...Now yielded\n",
    "Running task 6...Now yielded\n",
    "Running task 7...Now yielded\n",
    "Running task 6...Now yielded\n",
    "Running task 7...Now yielded\n",
    "Running task 6...Now yielded\n",
    "Running task 7...Found :  47\n",
    "Now yielded\n",
    "Running task 6...Now yielded\n",
    "Running task 7...Now yielded\n",
    "Running task 6...Now yielded\n",
    "Running task 7...Now yielded\n",
    "Running task 6...Now yielded\n",
    "Running task 7...Now yielded\n",
    "Running task 6...Now yielded\n",
    "Running task 7...Now yielded\n",
    "Running task 6...Now yielded\n",
    "Running task 7...Now yielded\n",
    "Running task 6...Now yielded\n",
    "Running task 7...Now yielded\n",
    "Running task 6...Now yielded\n",
    "Running task 7...Now yielded\n",
    "Running task 6...Now yielded\n",
    "Running task 7...Now yielded\n",
    "Running task 6...Now yielded\n",
    "Running task 7...Now yielded\n",
    "Running task 6...Now yielded\n",
    "Running task 7...Now yielded\n",
    "Running task 6...Now yielded\n",
    "Running task 7...Now yielded\n",
    "Running task 6...Now yielded\n",
    "Running task 7...Now yielded\n",
    "Running task 6...Now yielded\n",
    "Running task 7...Now yielded\n",
    "Running task 6...Now yielded\n",
    "Running task 7...Found :  199\n",
    "Now yielded\n",
    "Running task 6...Now yielded\n",
    "Running task 7...Now yielded\n",
    "Running task 6...Now yielded\n",
    "Running task 7...Now yielded\n",
    "Running task 6...Now yielded\n",
    "Running task 7...Now yielded\n",
    "Running task 6...Now yielded\n",
    "Running task 7...Now yielded\n",
    "Running task 6...Now yielded\n",
    "Running task 7...Now yielded\n",
    "Running task 6...Now yielded\n",
    "Running task 7...Now yielded\n",
    "Running task 6...Now yielded\n",
    "Running task 7...Now yielded\n",
    "Running task 6...Now yielded\n",
    "Running task 7...Now yielded\n",
    "Running task 6...Now yielded\n",
    "Running task 7...Now yielded\n",
    "Running task 6...Now yielded\n",
    "Running task 7...Now yielded\n",
    "Running task 6...Now yielded\n",
    "Running task 7...Now yielded\n",
    "Running task 6...Now yielded\n",
    "Running task 7...Now yielded\n",
    "Running task 6...Now yielded\n",
    "Running task 7...Now yielded\n",
    "Running task 6...Now yielded\n",
    "Running task 7...Now yielded\n",
    "Running task 6...Now yielded\n",
    "Running task 7...Now yielded\n",
    "Running task 6...Now yielded\n",
    "Running task 7...Now yielded\n",
    "Running task 6...Now yielded\n",
    "Running task 7...Now yielded\n",
    "Running task 6...Now yielded\n",
    "Running task 7...Now yielded\n",
    "Running task 6...Now yielded\n",
    "Running task 7...Now yielded\n",
    "Running task 6...Now yielded\n",
    "Running task 7...Now yielded\n",
    "Running task 6...Now yielded\n",
    "Running task 7...Found :  521\n",
    "Now yielded\n",
    "Running task 6...Now yielded\n",
    "Running task 7...Now yielded\n",
    "Running task 6...Now yielded\n",
    "Running task 7...Now yielded\n",
    "Running task 6...Now yielded\n",
    "Running task 7...Now yielded\n",
    "Running task 6...Now yielded\n",
    "Running task 7...Now yielded\n",
    "Running task 6...Now yielded\n",
    "Running task 7...Now yielded\n",
    "Running task 6...Now yielded\n",
    "Running task 7...Now yielded\n",
    "Running task 6...Now yielded\n",
    "Running task 7...Now yielded\n",
    "Running task 6...Now yielded\n",
    "Running task 7...Now yielded\n",
    "Running task 6...Now yielded\n",
    "Running task 7...Now yielded\n",
    "Running task 6...Now yielded\n",
    "Running task 7...Now yielded\n",
    "Running task 6...Now yielded\n",
    "Running task 7...Now yielded\n",
    "Running task 6...Now yielded\n",
    "Running task 7...Now yielded\n",
    "Running task 6...Now yielded\n",
    "Running task 7...Now yielded\n",
    "Running task 6...Now yielded\n",
    "Running task 7...Now yielded\n",
    "Running task 6...Now yielded\n",
    "Running task 7...Now yielded\n",
    "Running task 6...Now yielded\n",
    "Running task 7...Now yielded\n",
    "Running task 6...Now yielded\n",
    "Running task 7...Now yielded\n",
    "Running task 6...Now yielded\n",
    "Running task 7...Now yielded\n",
    "Running task 6...Now yielded\n",
    "Running task 7...Now yielded\n",
    "Running task 6...Now yielded\n",
    "Running task 7...Now yielded\n",
    "Running task 6...Now yielded\n",
    "Running task 7...Now yielded\n",
    "Running task 6...Now yielded\n",
    "Running task 7...Now yielded\n",
    "Running task 6...Now yielded\n",
    "Running task 7...Now yielded\n",
    "Running task 6...Now yielded\n",
    "Running task 7...Now yielded\n",
    "Running task 6...Now yielded\n",
    "Running task 7...Now yielded\n",
    "Running task 6...Now yielded\n",
    "Running task 7...Now yielded\n",
    "Running task 6...Now yielded\n",
    "Running task 7...Now yielded\n",
    "Running task 6...Now yielded\n",
    "Running task 7...Now yielded\n",
    "Running task 6...Now yielded\n",
    "Running task 7...Now yielded\n",
    "Running task 6...Now yielded\n",
    "Running task 7...Now yielded\n",
    "Running task 6...Now yielded\n",
    "Running task 7...Now yielded\n",
    "Running task 6...Now yielded\n",
    "Running task 7...Now yielded\n",
    "Running task 6...Now yielded\n",
    "Running task 7...Now yielded\n",
    "Running task 6...Now yielded\n",
    "Running task 7...Now yielded\n",
    "Running task 6...Now yielded\n",
    "Running task 7...Now yielded\n",
    "Running task 6...Now yielded\n",
    "Running task 7...Now yielded\n",
    "Running task 6...Now yielded\n",
    "Running task 7...Now yielded\n",
    "Running task 6...Now yielded\n",
    "Running task 7...Now yielded\n",
    "Running task 6...Now yielded\n",
    "Running task 7...Now yielded\n",
    "Running task 6...Now yielded\n",
    "Running task 7...Now yielded\n",
    "Running task 6...Now yielded\n",
    "Running task 7...Now yielded\n",
    "Running task 6...Now yielded\n",
    "Running task 7...Now yielded\n",
    "Running task 6...Now yielded\n",
    "Running task 7...Now yielded\n",
    "Running task 6...Now yielded\n",
    "Running task 7...Now yielded\n",
    "Running task 6...Now yielded\n",
    "Running task 7...Now yielded\n",
    "Running task 6...Now yielded\n",
    "Running task 7...Found :  2207\n",
    "Now yielded\n",
    "Running task 6...Now yielded\n",
    "Running task 7...Now yielded\n",
    "Running task 6...Now yielded\n",
    "Running task 7...Now yielded\n",
    "Running task 6...Now yielded\n",
    "Running task 7...Now yielded\n",
    "Running task 6...Now yielded\n",
    "Running task 7...Now yielded\n",
    "Running task 6...Now yielded\n",
    "Running task 7...Now yielded\n",
    "Running task 6...Now yielded\n",
    "Running task 7...Now yielded\n",
    "Running task 6...Now yielded\n",
    "Running task 7...Now yielded\n",
    "Running task 6...Now yielded\n",
    "Running task 7...Now yielded\n",
    "Running task 6...Now yielded\n",
    "Running task 7...Now yielded\n",
    "Running task 6...Now yielded\n",
    "Running task 7...Now yielded\n",
    "Running task 6...Now yielded\n",
    "Running task 7...Now yielded\n",
    "Running task 6...Now yielded\n",
    "Running task 7...Now yielded\n",
    "Running task 6...Now yielded\n",
    "Running task 7...Now yielded\n",
    "Running task 6...Now yielded\n",
    "Running task 7...Now yielded\n",
    "Running task 6...Now yielded\n",
    "Running task 7...Now yielded\n",
    "Running task 6...Now yielded\n",
    "Running task 7...Now yielded\n",
    "Running task 6...Now yielded\n",
    "Running task 7...Now yielded\n",
    "Running task 6...Now yielded\n",
    "Running task 7...Now yielded\n",
    "Running task 6...Now yielded\n",
    "Running task 7...Now yielded\n",
    "Running task 6...Now yielded\n",
    "Running task 7...Now yielded\n",
    "Running task 6...Now yielded\n",
    "Running task 7...Now yielded\n",
    "Running task 6...Now yielded\n",
    "Running task 7...Now yielded\n",
    "Running task 6...Now yielded\n",
    "Running task 7...Now yielded\n",
    "Running task 6...Now yielded\n",
    "Running task 7...Now yielded\n",
    "Running task 6...Now yielded\n",
    "Running task 7...Now yielded\n",
    "Running task 6...Now yielded\n",
    "Running task 7...Now yielded\n",
    "Running task 6...Now yielded\n",
    "Running task 7...Now yielded\n",
    "Running task 6...Now yielded\n",
    "Running task 7...Now yielded\n",
    "Running task 6...Now yielded\n",
    "Running task 7...Now yielded\n",
    "Running task 6...Now yielded\n",
    "Running task 7...Now yielded\n",
    "Running task 6...Now yielded\n",
    "Running task 7...Now yielded\n",
    "Running task 6...Now yielded\n",
    "Running task 7...Now yielded\n",
    "Running task 6...Now yielded\n",
    "Running task 7...Now yielded\n",
    "Running task 6...Now yielded\n",
    "Running task 7...Now yielded\n",
    "Running task 6...Now yielded\n",
    "Running task 7...Now yielded\n",
    "Running task 6...Now yielded\n",
    "Running task 7...Now yielded\n",
    "Running task 6...Now yielded\n",
    "Running task 7...Now yielded\n",
    "Running task 6...Now yielded\n",
    "Running task 7...Now yielded"
   ]
  },
  {
   "cell_type": "code",
   "execution_count": null,
   "metadata": {},
   "outputs": [],
   "source": []
  },
  {
   "cell_type": "code",
   "execution_count": null,
   "metadata": {},
   "outputs": [],
   "source": []
  },
  {
   "cell_type": "code",
   "execution_count": null,
   "metadata": {},
   "outputs": [],
   "source": []
  },
  {
   "cell_type": "code",
   "execution_count": null,
   "metadata": {},
   "outputs": [],
   "source": []
  },
  {
   "cell_type": "code",
   "execution_count": null,
   "metadata": {},
   "outputs": [],
   "source": []
  },
  {
   "cell_type": "code",
   "execution_count": null,
   "metadata": {},
   "outputs": [],
   "source": []
  },
  {
   "cell_type": "code",
   "execution_count": null,
   "metadata": {},
   "outputs": [],
   "source": []
  },
  {
   "cell_type": "code",
   "execution_count": null,
   "metadata": {},
   "outputs": [],
   "source": []
  },
  {
   "cell_type": "code",
   "execution_count": null,
   "metadata": {},
   "outputs": [],
   "source": []
  },
  {
   "cell_type": "code",
   "execution_count": null,
   "metadata": {},
   "outputs": [],
   "source": []
  },
  {
   "cell_type": "code",
   "execution_count": null,
   "metadata": {},
   "outputs": [],
   "source": []
  },
  {
   "cell_type": "code",
   "execution_count": null,
   "metadata": {},
   "outputs": [],
   "source": []
  },
  {
   "cell_type": "code",
   "execution_count": null,
   "metadata": {},
   "outputs": [],
   "source": []
  },
  {
   "cell_type": "code",
   "execution_count": null,
   "metadata": {},
   "outputs": [],
   "source": []
  },
  {
   "cell_type": "code",
   "execution_count": null,
   "metadata": {},
   "outputs": [],
   "source": []
  },
  {
   "cell_type": "code",
   "execution_count": null,
   "metadata": {},
   "outputs": [],
   "source": []
  },
  {
   "cell_type": "code",
   "execution_count": null,
   "metadata": {},
   "outputs": [],
   "source": []
  },
  {
   "cell_type": "code",
   "execution_count": null,
   "metadata": {},
   "outputs": [],
   "source": []
  },
  {
   "cell_type": "code",
   "execution_count": null,
   "metadata": {},
   "outputs": [],
   "source": []
  },
  {
   "cell_type": "code",
   "execution_count": null,
   "metadata": {},
   "outputs": [],
   "source": []
  },
  {
   "cell_type": "code",
   "execution_count": null,
   "metadata": {},
   "outputs": [],
   "source": []
  },
  {
   "cell_type": "code",
   "execution_count": null,
   "metadata": {},
   "outputs": [],
   "source": []
  },
  {
   "cell_type": "code",
   "execution_count": null,
   "metadata": {},
   "outputs": [],
   "source": []
  },
  {
   "cell_type": "code",
   "execution_count": null,
   "metadata": {},
   "outputs": [],
   "source": []
  },
  {
   "cell_type": "code",
   "execution_count": null,
   "metadata": {},
   "outputs": [],
   "source": []
  },
  {
   "cell_type": "code",
   "execution_count": null,
   "metadata": {},
   "outputs": [],
   "source": []
  },
  {
   "cell_type": "code",
   "execution_count": null,
   "metadata": {},
   "outputs": [],
   "source": []
  },
  {
   "cell_type": "code",
   "execution_count": null,
   "metadata": {},
   "outputs": [],
   "source": []
  },
  {
   "cell_type": "code",
   "execution_count": null,
   "metadata": {},
   "outputs": [],
   "source": []
  },
  {
   "cell_type": "code",
   "execution_count": null,
   "metadata": {},
   "outputs": [],
   "source": []
  },
  {
   "cell_type": "code",
   "execution_count": null,
   "metadata": {},
   "outputs": [],
   "source": []
  },
  {
   "cell_type": "code",
   "execution_count": null,
   "metadata": {},
   "outputs": [],
   "source": []
  },
  {
   "cell_type": "code",
   "execution_count": null,
   "metadata": {},
   "outputs": [],
   "source": []
  }
 ],
 "metadata": {
  "kernelspec": {
   "display_name": "Python 3",
   "language": "python",
   "name": "python3"
  },
  "language_info": {
   "codemirror_mode": {
    "name": "ipython",
    "version": 3
   },
   "file_extension": ".py",
   "mimetype": "text/x-python",
   "name": "python",
   "nbconvert_exporter": "python",
   "pygments_lexer": "ipython3",
   "version": "3.7.3"
  }
 },
 "nbformat": 4,
 "nbformat_minor": 2
}
